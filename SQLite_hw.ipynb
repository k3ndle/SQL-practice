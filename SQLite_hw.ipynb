{
 "cells": [
  {
   "cell_type": "code",
   "execution_count": 24,
   "id": "16a96026-eb29-408a-9bbb-40e3164b0beb",
   "metadata": {},
   "outputs": [],
   "source": [
    "import sqlite3"
   ]
  },
  {
   "cell_type": "code",
   "execution_count": 25,
   "id": "2f53fb5d-518c-4db8-97da-460a34f558a2",
   "metadata": {},
   "outputs": [],
   "source": [
    "connection=sqlite3.connect('student_grades.db')"
   ]
  },
  {
   "cell_type": "code",
   "execution_count": 26,
   "id": "410e169f-0c46-4c80-bc52-0921601f3c8a",
   "metadata": {},
   "outputs": [],
   "source": [
    "cursor=connection.cursor()"
   ]
  },
  {
   "cell_type": "code",
   "execution_count": 4,
   "id": "842d9ab6-9c89-4b50-b8f2-71c39a500aee",
   "metadata": {
    "scrolled": true
   },
   "outputs": [
    {
     "data": {
      "text/plain": [
       "<sqlite3.Cursor at 0x10667c040>"
      ]
     },
     "execution_count": 4,
     "metadata": {},
     "output_type": "execute_result"
    }
   ],
   "source": [
    "cursor.execute('CREATE TABLE IF NOT EXISTS students(student_id INTEGER PRIMARY KEY AUTOINCREMENT,first_name TEXT,last_name TEXT)')"
   ]
  },
  {
   "cell_type": "code",
   "execution_count": 17,
   "id": "6f6c22c1-8e54-4cbe-922f-39686eeb6caa",
   "metadata": {},
   "outputs": [
    {
     "data": {
      "text/plain": [
       "<sqlite3.Cursor at 0x10667c040>"
      ]
     },
     "execution_count": 17,
     "metadata": {},
     "output_type": "execute_result"
    }
   ],
   "source": [
    "cursor.execute('CREATE TABLE IF NOT EXISTS grades(grade_id INTEGER PRIMARY KEY AUTOINCREMENT,student_id INTEGER, subject TEXT, grade INTEGER, FOREIGN KEY(student_id) REFERENCES students(student_id))')"
   ]
  },
  {
   "cell_type": "code",
   "execution_count": 7,
   "id": "b04d8aec-b349-4f98-af04-0bfe60c19fcb",
   "metadata": {},
   "outputs": [
    {
     "ename": "IntegrityError",
     "evalue": "UNIQUE constraint failed: students.student_id",
     "output_type": "error",
     "traceback": [
      "\u001b[0;31m---------------------------------------------------------------------------\u001b[0m",
      "\u001b[0;31mIntegrityError\u001b[0m                            Traceback (most recent call last)",
      "Cell \u001b[0;32mIn[7], line 2\u001b[0m\n\u001b[1;32m      1\u001b[0m student_data\u001b[38;5;241m=\u001b[39m[(\u001b[38;5;241m1\u001b[39m,\u001b[38;5;124m'\u001b[39m\u001b[38;5;124mAlice\u001b[39m\u001b[38;5;124m'\u001b[39m,\u001b[38;5;124m'\u001b[39m\u001b[38;5;124mJohnson\u001b[39m\u001b[38;5;124m'\u001b[39m),(\u001b[38;5;241m2\u001b[39m,\u001b[38;5;124m'\u001b[39m\u001b[38;5;124mBob\u001b[39m\u001b[38;5;124m'\u001b[39m,\u001b[38;5;124m'\u001b[39m\u001b[38;5;124mSmith\u001b[39m\u001b[38;5;124m'\u001b[39m),(\u001b[38;5;241m3\u001b[39m,\u001b[38;5;124m'\u001b[39m\u001b[38;5;124mCarol\u001b[39m\u001b[38;5;124m'\u001b[39m,\u001b[38;5;124m'\u001b[39m\u001b[38;5;124mWhite\u001b[39m\u001b[38;5;124m'\u001b[39m),(\u001b[38;5;241m4\u001b[39m,\u001b[38;5;124m'\u001b[39m\u001b[38;5;124mDavid\u001b[39m\u001b[38;5;124m'\u001b[39m,\u001b[38;5;124m'\u001b[39m\u001b[38;5;124mBrown\u001b[39m\u001b[38;5;124m'\u001b[39m),(\u001b[38;5;241m5\u001b[39m,\u001b[38;5;124m'\u001b[39m\u001b[38;5;124mEve\u001b[39m\u001b[38;5;124m'\u001b[39m,\u001b[38;5;124m'\u001b[39m\u001b[38;5;124mDavis\u001b[39m\u001b[38;5;124m'\u001b[39m)]\n\u001b[0;32m----> 2\u001b[0m cursor\u001b[38;5;241m.\u001b[39mexecutemany(\u001b[38;5;124m'''\u001b[39m\u001b[38;5;124mINSERT INTO students (student_id,first_name,last_name) VALUES (?,?,?)\u001b[39m\u001b[38;5;124m'''\u001b[39m,student_data)\n\u001b[1;32m      3\u001b[0m connection\u001b[38;5;241m.\u001b[39mcommit()\n",
      "\u001b[0;31mIntegrityError\u001b[0m: UNIQUE constraint failed: students.student_id"
     ]
    }
   ],
   "source": [
    "#insert data\n",
    "student_data=[(1,'Alice','Johnson'),(2,'Bob','Smith'),(3,'Carol','White'),(4,'David','Brown'),(5,'Eve','Davis')]\n",
    "cursor.executemany('''INSERT INTO students (student_id,first_name,last_name) VALUES (?,?,?)''',student_data)\n",
    "connection.commit()"
   ]
  },
  {
   "cell_type": "code",
   "execution_count": 18,
   "id": "7c741411-67a7-4bd9-8f43-5928d23ab27d",
   "metadata": {},
   "outputs": [],
   "source": [
    "#insert data\n",
    "grade_data=[(1,1,'Math',95),(2,1,'English',88),(3,1,'History',90),(4,2,'Math',82),(5,2,'English',76),(6,2,'History',85),(7,3,'Math',91),(8,3,'English',82),(9,3,'History',98),(10,4,'Math',70),(11,4,'English',90),(12,4,'History',50),(13,5,'Math',80),(14,5,'English',75),(15,5,'History',100)]\n",
    "cursor.executemany('''INSERT INTO grades (grade_id,student_id,subject,grade) VALUES (?,?,?,?)''',grade_data)\n",
    "connection.commit()"
   ]
  },
  {
   "cell_type": "code",
   "execution_count": 38,
   "id": "80104665-459f-4f23-bd38-8a6da8ab054f",
   "metadata": {},
   "outputs": [
    {
     "name": "stdout",
     "output_type": "stream",
     "text": [
      "[('Alice', 'Johnson', 95), ('Alice', 'Johnson', 88), ('Alice', 'Johnson', 90), ('Bob', 'Smith', 82), ('Bob', 'Smith', 76), ('Bob', 'Smith', 85), ('Carol', 'White', 91), ('Carol', 'White', 82), ('Carol', 'White', 98), ('David', 'Brown', 70), ('David', 'Brown', 90), ('David', 'Brown', 50), ('Eve', 'Davis', 80), ('Eve', 'Davis', 75), ('Eve', 'Davis', 100)]\n"
     ]
    }
   ],
   "source": [
    "#query 1\n",
    "cursor.execute('''SELECT students.first_name,students.last_name,grades.grade FROM students\n",
    "JOIN grades ON students.student_id=grades.student_id''')\n",
    "print(cursor.fetchall())"
   ]
  },
  {
   "cell_type": "code",
   "execution_count": 49,
   "id": "c2453ff8-a2fd-4d96-9e0a-8c2c699d2219",
   "metadata": {},
   "outputs": [
    {
     "name": "stdout",
     "output_type": "stream",
     "text": [
      "[('Alice', 'Johnson', 1, 91.0), ('Bob', 'Smith', 2, 81.0), ('Carol', 'White', 3, 90.33333333333333), ('David', 'Brown', 4, 70.0), ('Eve', 'Davis', 5, 85.0)]\n"
     ]
    }
   ],
   "source": [
    "#query 2\n",
    "cursor.execute('''SELECT students.first_name,students.last_name,students.student_id,avg(grades.grade) FROM students\n",
    "JOIN grades ON students.student_id=grades.student_id GROUP BY students.student_id''')\n",
    "print(cursor.fetchall())"
   ]
  },
  {
   "cell_type": "code",
   "execution_count": 52,
   "id": "dd5faafa-fb0c-448e-b7ea-e07f87cdaa60",
   "metadata": {},
   "outputs": [
    {
     "name": "stdout",
     "output_type": "stream",
     "text": [
      "('Alice', 'Johnson', 1, 91.0)\n"
     ]
    }
   ],
   "source": [
    "#query 3\n",
    "cursor.execute('''SELECT students.first_name,students.last_name,students.student_id,avg(grades.grade) FROM students\n",
    "JOIN grades ON students.student_id=grades.student_id GROUP BY students.student_id ORDER BY avg(grades.grade) DESC''')\n",
    "print(cursor.fetchone())"
   ]
  },
  {
   "cell_type": "code",
   "execution_count": 55,
   "id": "fd0e138a-a846-44a0-b615-2157d2e8e51a",
   "metadata": {},
   "outputs": [
    {
     "name": "stdout",
     "output_type": "stream",
     "text": [
      "[('Math', 83.6)]\n"
     ]
    }
   ],
   "source": [
    "#query 4\n",
    "cursor.execute('''SELECT subject,avg(grade) FROM grades WHERE subject='Math'\n",
    "GROUP BY subject''')\n",
    "print(cursor.fetchall())"
   ]
  },
  {
   "cell_type": "code",
   "execution_count": 70,
   "id": "46ad08f8-8493-4dfa-b44a-8dbb1b85355c",
   "metadata": {},
   "outputs": [
    {
     "name": "stdout",
     "output_type": "stream",
     "text": [
      "[('Alice', 'Johnson'), ('Carol', 'White'), ('Eve', 'Davis')]\n"
     ]
    }
   ],
   "source": [
    "#query 5\n",
    "cursor.execute('''SELECT students.first_name,students.last_name FROM students\n",
    "JOIN grades ON students.student_id=grades.student_id WHERE grade>90 GROUP BY students.student_id''')\n",
    "print(cursor.fetchall())"
   ]
  },
  {
   "cell_type": "code",
   "execution_count": 102,
   "id": "aa1c52e4-dcac-44d5-96cf-7d8b070878a0",
   "metadata": {},
   "outputs": [
    {
     "data": {
      "text/html": [
       "<div>\n",
       "<style scoped>\n",
       "    .dataframe tbody tr th:only-of-type {\n",
       "        vertical-align: middle;\n",
       "    }\n",
       "\n",
       "    .dataframe tbody tr th {\n",
       "        vertical-align: top;\n",
       "    }\n",
       "\n",
       "    .dataframe thead th {\n",
       "        text-align: right;\n",
       "    }\n",
       "</style>\n",
       "<table border=\"1\" class=\"dataframe\">\n",
       "  <thead>\n",
       "    <tr style=\"text-align: right;\">\n",
       "      <th></th>\n",
       "      <th>first_name</th>\n",
       "      <th>last_name</th>\n",
       "      <th>subject</th>\n",
       "      <th>grade</th>\n",
       "    </tr>\n",
       "  </thead>\n",
       "  <tbody>\n",
       "    <tr>\n",
       "      <th>0</th>\n",
       "      <td>Alice</td>\n",
       "      <td>Johnson</td>\n",
       "      <td>Math</td>\n",
       "      <td>95</td>\n",
       "    </tr>\n",
       "    <tr>\n",
       "      <th>1</th>\n",
       "      <td>Alice</td>\n",
       "      <td>Johnson</td>\n",
       "      <td>English</td>\n",
       "      <td>88</td>\n",
       "    </tr>\n",
       "    <tr>\n",
       "      <th>2</th>\n",
       "      <td>Alice</td>\n",
       "      <td>Johnson</td>\n",
       "      <td>History</td>\n",
       "      <td>90</td>\n",
       "    </tr>\n",
       "    <tr>\n",
       "      <th>3</th>\n",
       "      <td>Bob</td>\n",
       "      <td>Smith</td>\n",
       "      <td>Math</td>\n",
       "      <td>82</td>\n",
       "    </tr>\n",
       "    <tr>\n",
       "      <th>4</th>\n",
       "      <td>Bob</td>\n",
       "      <td>Smith</td>\n",
       "      <td>English</td>\n",
       "      <td>76</td>\n",
       "    </tr>\n",
       "    <tr>\n",
       "      <th>5</th>\n",
       "      <td>Bob</td>\n",
       "      <td>Smith</td>\n",
       "      <td>History</td>\n",
       "      <td>85</td>\n",
       "    </tr>\n",
       "    <tr>\n",
       "      <th>6</th>\n",
       "      <td>Carol</td>\n",
       "      <td>White</td>\n",
       "      <td>Math</td>\n",
       "      <td>91</td>\n",
       "    </tr>\n",
       "    <tr>\n",
       "      <th>7</th>\n",
       "      <td>Carol</td>\n",
       "      <td>White</td>\n",
       "      <td>English</td>\n",
       "      <td>82</td>\n",
       "    </tr>\n",
       "    <tr>\n",
       "      <th>8</th>\n",
       "      <td>Carol</td>\n",
       "      <td>White</td>\n",
       "      <td>History</td>\n",
       "      <td>98</td>\n",
       "    </tr>\n",
       "    <tr>\n",
       "      <th>9</th>\n",
       "      <td>David</td>\n",
       "      <td>Brown</td>\n",
       "      <td>Math</td>\n",
       "      <td>70</td>\n",
       "    </tr>\n",
       "    <tr>\n",
       "      <th>10</th>\n",
       "      <td>David</td>\n",
       "      <td>Brown</td>\n",
       "      <td>English</td>\n",
       "      <td>90</td>\n",
       "    </tr>\n",
       "    <tr>\n",
       "      <th>11</th>\n",
       "      <td>David</td>\n",
       "      <td>Brown</td>\n",
       "      <td>History</td>\n",
       "      <td>50</td>\n",
       "    </tr>\n",
       "    <tr>\n",
       "      <th>12</th>\n",
       "      <td>Eve</td>\n",
       "      <td>Davis</td>\n",
       "      <td>Math</td>\n",
       "      <td>80</td>\n",
       "    </tr>\n",
       "    <tr>\n",
       "      <th>13</th>\n",
       "      <td>Eve</td>\n",
       "      <td>Davis</td>\n",
       "      <td>English</td>\n",
       "      <td>75</td>\n",
       "    </tr>\n",
       "    <tr>\n",
       "      <th>14</th>\n",
       "      <td>Eve</td>\n",
       "      <td>Davis</td>\n",
       "      <td>History</td>\n",
       "      <td>100</td>\n",
       "    </tr>\n",
       "  </tbody>\n",
       "</table>\n",
       "</div>"
      ],
      "text/plain": [
       "   first_name last_name  subject  grade\n",
       "0       Alice   Johnson     Math     95\n",
       "1       Alice   Johnson  English     88\n",
       "2       Alice   Johnson  History     90\n",
       "3         Bob     Smith     Math     82\n",
       "4         Bob     Smith  English     76\n",
       "5         Bob     Smith  History     85\n",
       "6       Carol     White     Math     91\n",
       "7       Carol     White  English     82\n",
       "8       Carol     White  History     98\n",
       "9       David     Brown     Math     70\n",
       "10      David     Brown  English     90\n",
       "11      David     Brown  History     50\n",
       "12        Eve     Davis     Math     80\n",
       "13        Eve     Davis  English     75\n",
       "14        Eve     Davis  History    100"
      ]
     },
     "execution_count": 102,
     "metadata": {},
     "output_type": "execute_result"
    }
   ],
   "source": [
    "#Load data into Pandas\n",
    "import pandas as pd\n",
    "students=pd.read_sql('''SELECT * from students''',connection)\n",
    "students\n",
    "grades=pd.read_sql('''SELECT * from grades''',connection)\n",
    "grades\n",
    "combined=pd.read_sql('''SELECT first_name,last_name,subject,grade from students JOIN grades on students.student_id=grades.student_id''',connection)\n",
    "combined"
   ]
  },
  {
   "cell_type": "code",
   "execution_count": 100,
   "id": "7390e157-7d24-40f9-9a7f-c0387f7ea2c5",
   "metadata": {},
   "outputs": [
    {
     "data": {
      "text/plain": [
       "<BarContainer object of 5 artists>"
      ]
     },
     "execution_count": 100,
     "metadata": {},
     "output_type": "execute_result"
    },
    {
     "data": {
      "image/png": "[encoded data removed]",
      "text/plain": [
       "<Figure size 640x480 with 1 Axes>"
      ]
     },
     "metadata": {},
     "output_type": "display_data"
    }
   ],
   "source": [
    "#Chart 1\n",
    "import matplotlib.pyplot as plt\n",
    "stud_avgs=pd.read_sql('''SELECT first_name,last_name,subject,avg(grade) from students JOIN grades on students.student_id=grades.student_id GROUP BY students.student_id''',connection)\n",
    "plt.bar(stud_avgs['last_name'],stud_avgs['avg(grade)'])"
   ]
  },
  {
   "cell_type": "code",
   "execution_count": 101,
   "id": "0be540d0-8273-4d06-bc4c-1c7649b6aff5",
   "metadata": {},
   "outputs": [
    {
     "data": {
      "text/plain": [
       "<BarContainer object of 3 artists>"
      ]
     },
     "execution_count": 101,
     "metadata": {},
     "output_type": "execute_result"
    },
    {
     "data": {
      "image/png": "[encoded data removed]",
      "text/plain": [
       "<Figure size 640x480 with 1 Axes>"
      ]
     },
     "metadata": {},
     "output_type": "display_data"
    }
   ],
   "source": [
    "#Chart 2\n",
    "subj_avgs=pd.read_sql('''SELECT subject,avg(grade) from students JOIN grades on students.student_id=grades.student_id GROUP BY subject''',connection)\n",
    "plt.bar(subj_avgs['subject'],subj_avgs['avg(grade)'])"
   ]
  }
 ],
 "metadata": {
  "kernelspec": {
   "display_name": "Python 3 (ipykernel)",
   "language": "python",
   "name": "python3"
  },
  "language_info": {
   "codemirror_mode": {
    "name": "ipython",
    "version": 3
   },
   "file_extension": ".py",
   "mimetype": "text/x-python",
   "name": "python",
   "nbconvert_exporter": "python",
   "pygments_lexer": "ipython3",
   "version": "3.12.4"
  }
 },
 "nbformat": 4,
 "nbformat_minor": 5
}
